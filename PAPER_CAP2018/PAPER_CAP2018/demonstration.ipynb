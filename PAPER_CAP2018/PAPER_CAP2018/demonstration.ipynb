{
 "cells": [
  {
   "cell_type": "markdown",
   "metadata": {},
   "source": [
    "# I. Preparing data"
   ]
  },
  {
   "cell_type": "code",
   "execution_count": 117,
   "metadata": {
    "collapsed": false
   },
   "outputs": [
    {
     "name": "stdout",
     "output_type": "stream",
     "text": [
      "The autoreload extension is already loaded. To reload it, use:\n",
      "  %reload_ext autoreload\n"
     ]
    }
   ],
   "source": [
    "%load_ext autoreload\n",
    "%autoreload 2"
   ]
  },
  {
   "cell_type": "markdown",
   "metadata": {},
   "source": [
    "Import lib"
   ]
  },
  {
   "cell_type": "code",
   "execution_count": 118,
   "metadata": {
    "collapsed": false
   },
   "outputs": [],
   "source": [
    "import numpy as np\n",
    "import os"
   ]
  },
  {
   "cell_type": "markdown",
   "metadata": {},
   "source": [
    "Define directions"
   ]
  },
  {
   "cell_type": "code",
   "execution_count": 119,
   "metadata": {
    "collapsed": true
   },
   "outputs": [],
   "source": [
    "ORIGINAL_DATA_dir = 'DATASETS/ORIGINAL_DATA'\n",
    "STUDIED_DATA_dir = 'DATASETS/STUDIED_DATA'"
   ]
  },
  {
   "cell_type": "markdown",
   "metadata": {},
   "source": [
    "## I.1 Exploring real data"
   ]
  },
  {
   "cell_type": "code",
   "execution_count": 120,
   "metadata": {
    "collapsed": false
   },
   "outputs": [],
   "source": [
    "X_orig = np.loadtxt(os.path.join(ORIGINAL_DATA_dir, 'MLComp/MLComp.data'))"
   ]
  },
  {
   "cell_type": "markdown",
   "metadata": {},
   "source": [
    "Data statistics:"
   ]
  },
  {
   "cell_type": "code",
   "execution_count": 121,
   "metadata": {
    "collapsed": false
   },
   "outputs": [
    {
     "name": "stdout",
     "output_type": "stream",
     "text": [
      "sparsity = 0.932033\n",
      "Number of models = 384\n",
      "Number of datasets = 724\n",
      "Matrix contains NaN, cannot define the rank\n"
     ]
    }
   ],
   "source": [
    "from data_statistics import *\n",
    "print \"sparsity = %f\"%sparsity(X_orig)\n",
    "print \"Number of models = %i\"%num_model(X_orig)\n",
    "print \"Number of datasets = %i\"%num_dataset(X_orig)\n",
    "if sparsity(X_orig) == 0:\n",
    "    print \"Rank of matrix = %i\"%rank(X_orig)\n",
    "else:\n",
    "    print \"Matrix contains NaN, cannot define the rank\""
   ]
  },
  {
   "cell_type": "markdown",
   "metadata": {},
   "source": [
    "Load processed data.\n",
    "Note: Datasets in STUDIED_DATA_dir are all the same as they are in ORIGINAL_DATA_dir, except for MLComp for which we processed to extract a dense part of the original data to reduce the sparsity."
   ]
  },
  {
   "cell_type": "code",
   "execution_count": 122,
   "metadata": {
    "collapsed": false
   },
   "outputs": [],
   "source": [
    "X_proc = np.loadtxt(os.path.join(STUDIED_DATA_dir, 'statlog/statlog.data'))"
   ]
  },
  {
   "cell_type": "code",
   "execution_count": 123,
   "metadata": {
    "collapsed": false
   },
   "outputs": [
    {
     "name": "stdout",
     "output_type": "stream",
     "text": [
      "sparsity = 0.000000\n",
      "Number of models = 24\n",
      "Number of datasets = 22\n",
      "Rank of matrix = 22\n"
     ]
    }
   ],
   "source": [
    "print \"sparsity = %f\"%sparsity(X_proc)\n",
    "print \"Number of models = %i\"%num_model(X_proc)\n",
    "print \"Number of datasets = %i\"%num_dataset(X_proc)\n",
    "if sparsity(X_proc) == 0:\n",
    "    print \"Rank of matrix = %i\"%rank(X_proc)\n",
    "else:\n",
    "    print \"Matrix contains NaN, cannot define the rank\""
   ]
  },
  {
   "cell_type": "markdown",
   "metadata": {},
   "source": [
    "Use SVD to complete missing values:"
   ]
  },
  {
   "cell_type": "code",
   "execution_count": 124,
   "metadata": {
    "collapsed": false
   },
   "outputs": [
    {
     "ename": "IndentationError",
     "evalue": "unexpected indent (SVD_complete_missingValues.py, line 107)",
     "output_type": "error",
     "traceback": [
      "\u001b[0;36m  File \u001b[0;32m\"SVD_complete_missingValues.py\"\u001b[0;36m, line \u001b[0;32m107\u001b[0m\n\u001b[0;31m    S_dim2 = V.shape[0]\u001b[0m\n\u001b[0m    ^\u001b[0m\n\u001b[0;31mIndentationError\u001b[0m\u001b[0;31m:\u001b[0m unexpected indent\n"
     ]
    }
   ],
   "source": [
    "from SVD_complete_missingValues import *\n",
    "X_comp, _, reconstruction_err, _, _, _ = SVD_complete_missingValues(X_proc)"
   ]
  },
  {
   "cell_type": "code",
   "execution_count": 125,
   "metadata": {
    "collapsed": false
   },
   "outputs": [
    {
     "ename": "NameError",
     "evalue": "name 'reconstruction_err' is not defined",
     "output_type": "error",
     "traceback": [
      "\u001b[0;31m---------------------------------------------------------------------------\u001b[0m",
      "\u001b[0;31mNameError\u001b[0m                                 Traceback (most recent call last)",
      "\u001b[0;32m<ipython-input-125-2df946029d8a>\u001b[0m in \u001b[0;36m<module>\u001b[0;34m()\u001b[0m\n\u001b[0;32m----> 1\u001b[0;31m \u001b[0;32mprint\u001b[0m \u001b[0mreconstruction_err\u001b[0m\u001b[0;34m\u001b[0m\u001b[0m\n\u001b[0m",
      "\u001b[0;31mNameError\u001b[0m: name 'reconstruction_err' is not defined"
     ]
    }
   ],
   "source": [
    "print reconstruction_err"
   ]
  },
  {
   "cell_type": "code",
   "execution_count": 126,
   "metadata": {
    "collapsed": false
   },
   "outputs": [
    {
     "ename": "NameError",
     "evalue": "name 'X_comp' is not defined",
     "output_type": "error",
     "traceback": [
      "\u001b[0;31m---------------------------------------------------------------------------\u001b[0m",
      "\u001b[0;31mNameError\u001b[0m                                 Traceback (most recent call last)",
      "\u001b[0;32m<ipython-input-126-ace4f658021d>\u001b[0m in \u001b[0;36m<module>\u001b[0;34m()\u001b[0m\n\u001b[0;32m----> 1\u001b[0;31m \u001b[0;32mprint\u001b[0m \u001b[0;34m\"sparsity = %f\"\u001b[0m\u001b[0;34m%\u001b[0m\u001b[0msparsity\u001b[0m\u001b[0;34m(\u001b[0m\u001b[0mX_comp\u001b[0m\u001b[0;34m)\u001b[0m\u001b[0;34m\u001b[0m\u001b[0m\n\u001b[0m\u001b[1;32m      2\u001b[0m \u001b[0;32mif\u001b[0m \u001b[0msparsity\u001b[0m\u001b[0;34m(\u001b[0m\u001b[0mX_comp\u001b[0m\u001b[0;34m)\u001b[0m \u001b[0;34m==\u001b[0m \u001b[0;36m0\u001b[0m\u001b[0;34m:\u001b[0m\u001b[0;34m\u001b[0m\u001b[0m\n\u001b[1;32m      3\u001b[0m     \u001b[0;32mprint\u001b[0m \u001b[0;34m\"Rank of matrix = %i\"\u001b[0m\u001b[0;34m%\u001b[0m\u001b[0mrank\u001b[0m\u001b[0;34m(\u001b[0m\u001b[0mX_comp\u001b[0m\u001b[0;34m)\u001b[0m\u001b[0;34m\u001b[0m\u001b[0m\n\u001b[1;32m      4\u001b[0m \u001b[0;32melse\u001b[0m\u001b[0;34m:\u001b[0m\u001b[0;34m\u001b[0m\u001b[0m\n\u001b[1;32m      5\u001b[0m     \u001b[0;32mprint\u001b[0m \u001b[0;34m\"Matrix contains NaN, cannot define the rank\"\u001b[0m\u001b[0;34m\u001b[0m\u001b[0m\n",
      "\u001b[0;31mNameError\u001b[0m: name 'X_comp' is not defined"
     ]
    }
   ],
   "source": [
    "print \"sparsity = %f\"%sparsity(X_comp)\n",
    "if sparsity(X_comp) == 0:\n",
    "    print \"Rank of matrix = %i\"%rank(X_comp)\n",
    "else:\n",
    "    print \"Matrix contains NaN, cannot define the rank\""
   ]
  },
  {
   "cell_type": "markdown",
   "metadata": {
    "collapsed": true
   },
   "source": [
    "## I.2 Generate random data"
   ]
  },
  {
   "cell_type": "code",
   "execution_count": 127,
   "metadata": {
    "collapsed": true
   },
   "outputs": [],
   "source": [
    "from random_data_generator import random_data\n",
    "S_rank2 = random_data(10, 10, 2) # generate random matrix of rank 2\n",
    "S_rank4 = random_data(10, 10, 4) # generate random matrix of rank 4\n",
    "S_rank6 = random_data(10, 10, 6) # generate random matrix of rank 6\n",
    "S_rank8 = random_data(10, 10, 8) # generate random matrix of rank 8"
   ]
  },
  {
   "cell_type": "markdown",
   "metadata": {},
   "source": [
    "# II. APT"
   ]
  },
  {
   "cell_type": "markdown",
   "metadata": {},
   "source": [
    "## II.1 APT on random data (no missing value)"
   ]
  },
  {
   "cell_type": "code",
   "execution_count": 174,
   "metadata": {
    "collapsed": false
   },
   "outputs": [
    {
     "data": {
      "image/png": "[encoded data removed]",
      "text/plain": [
       "<matplotlib.figure.Figure at 0x1a18dc4b50>"
      ]
     },
     "metadata": {},
     "output_type": "display_data"
    }
   ],
   "source": [
    "from numpy.linalg import matrix_rank\n",
    "import math\n",
    "import matplotlib.pyplot as plt\n",
    "from APT_factorization import APT_recursiveElimination, APT_random, APT_GramSchmidt\n",
    "RMSE_SVD = []\n",
    "RMSE_APTbackward = []\n",
    "RMSE_APTrandom = []\n",
    "S = S_rank6\n",
    "# A, idx = APT_GramSchmidt(S)\n",
    "for r_ in range(1,11):\n",
    "    #SVD\n",
    "    u, s, vh = np.linalg.svd(S, full_matrices=False)\n",
    "    s_ = list(s[:r_])+[0]*(len(s)-r_)\n",
    "    smat_ = np.diag(s_)\n",
    "    S_SVD = np.dot(u, np.dot(smat_, vh))\n",
    "    rmse_svd = math.sqrt(((S-S_SVD)**2).sum()/S.size)\n",
    "    RMSE_SVD.append(rmse_svd)\n",
    "    #APT_backward\n",
    "    _,_, P_backward, A_backward, _, _, T_backward = APT_recursiveElimination(S, m=r_, d=S.shape[0])\n",
    "    S_APTback = np.dot(A_backward, np.dot(P_backward,T_backward))\n",
    "    rmse_aptback = math.sqrt(((S-S_APTback)**2).sum()/S.size)\n",
    "    RMSE_APTbackward.append(rmse_aptback)\n",
    "    #APT_random\n",
    "    A_random, _, T_random, _, P_random = APT_random(S, m=r_, d=S.shape[0]) \n",
    "    S_random = np.dot(A_random, np.dot(P_random,T_random))\n",
    "    rmse_aptrandom = math.sqrt(((S-S_random)**2).sum()/S.size)\n",
    "    RMSE_APTrandom.append(rmse_aptrandom)\n",
    "    \n",
    "    #APT_GS\n",
    "    \n",
    "plt.plot(range(1,11), RMSE_SVD, '.-', label='SVD')\n",
    "plt.plot(range(1,11), RMSE_APTbackward, '.-', label='APT_backward')\n",
    "plt.plot(range(1,11), RMSE_APTrandom, '.-', label='APT_random')\n",
    "plt.legend()\n",
    "plt.show()"
   ]
  },
  {
   "cell_type": "markdown",
   "metadata": {},
   "source": [
    "## II.1 APT on random data (with missing value)"
   ]
  },
  {
   "cell_type": "code",
   "execution_count": 168,
   "metadata": {
    "collapsed": false
   },
   "outputs": [
    {
     "name": "stdout",
     "output_type": "stream",
     "text": [
      "1\n",
      "2\n",
      "3\n",
      "4\n",
      "5\n",
      "6\n",
      "7\n",
      "8\n",
      "9\n",
      "10\n"
     ]
    },
    {
     "data": {
      "image/png": "[encoded data removed]",
      "text/plain": [
       "<matplotlib.figure.Figure at 0x1a199ee9d0>"
      ]
     },
     "metadata": {},
     "output_type": "display_data"
    }
   ],
   "source": [
    "S = S_rank6  # 10 by 10 matrix, rank 6, ground truth\n",
    "SS_miss = np.copy(S)\n",
    "SS_miss[[0,0,0,0],[1,2,3,4]] = np.nan # introduce 5 missing value\n",
    "missing_position = np.where(np.isnan(SS_miss))\n",
    "non_missing_position = np.where(~np.isnan(SS_miss))\n",
    "\n",
    "RMSE_SVD_miss = []\n",
    "RMSE_APTbackward_miss = []\n",
    "RMSE_APTrandom_miss = []\n",
    "for r_ in range(1, SS_miss.shape[1]+1):\n",
    "#     print r_\n",
    "    median = np.nanmedian(SS_miss) # initialize with median\n",
    "    SS_miss[missing_position] = median\n",
    "    #SVD\n",
    "    u_miss, s_miss, vh_miss = np.linalg.svd(SS_miss, full_matrices=False)\n",
    "    s_miss_ = list(s_miss[:r_])+[0]*(len(s_miss)-r_) # keep only first r_ singular values\n",
    "    smat_miss = np.diag(s_miss_)\n",
    "    \n",
    "    S_SVD_miss = np.dot(u_miss, np.dot(smat_miss, vh_miss))\n",
    "#     rmse_svd_miss = math.sqrt(((S[missing_position]-S_SVD_miss[missing_position])**2).sum()/4)\n",
    "    rmse_svd_miss = math.sqrt(((S[non_missing_position]-S_SVD_miss[non_missing_position])**2).sum())\n",
    "    RMSE_SVD_miss.append(rmse_svd_miss)\n",
    "    \n",
    "    #APT_backward\n",
    "    _,_, P_backward_miss, A_backward_miss, _, _, T_backward_miss = APT_recursiveElimination(SS_miss, m=r_, d=S.shape[0])\n",
    "    S_APTback_miss = np.dot(A_backward_miss, np.dot(P_backward_miss,T_backward_miss))\n",
    "    rmse_aptback_miss = math.sqrt(((S[non_missing_position]-S_APTback_miss[non_missing_position])**2).sum())\n",
    "    RMSE_APTbackward_miss.append(rmse_aptback_miss)\n",
    "    \n",
    "    #APT_random\n",
    "    A_random_miss, _, T_random_miss, _, P_random_miss = APT_random(SS_miss, m=r_, d=S.shape[0]) \n",
    "    S_random_miss = np.dot(A_random_miss, np.dot(P_random_miss,T_random_miss))\n",
    "    rmse_aptrandom_miss = math.sqrt(((S[non_missing_position]-S_random_miss[non_missing_position])**2).sum())\n",
    "    RMSE_APTrandom_miss.append(rmse_aptrandom_miss)\n",
    "plt.plot(range(1,11), RMSE_SVD_miss, '.-', label='SVD')\n",
    "plt.plot(range(1,11), RMSE_APTbackward_miss, '.-', label='APT_backward')\n",
    "plt.plot(range(1,11), RMSE_APTrandom_miss, '.-', label='APT_random')\n",
    "plt.legend()\n",
    "plt.show()"
   ]
  },
  {
   "cell_type": "code",
   "execution_count": 155,
   "metadata": {
    "collapsed": false
   },
   "outputs": [
    {
     "data": {
      "text/plain": [
       "[0.7101033558139208,\n",
       " 2.1024907428441897,\n",
       " 2.1027093015118994,\n",
       " 2.101992150460179,\n",
       " 2.1020623818045445,\n",
       " 2.102064025057248,\n",
       " 2.102064230757579,\n",
       " 2.102064230757579,\n",
       " 2.102064230757579,\n",
       " 2.102064230757579]"
      ]
     },
     "execution_count": 155,
     "metadata": {},
     "output_type": "execute_result"
    }
   ],
   "source": [
    "RMSE_SVD_miss"
   ]
  },
  {
   "cell_type": "code",
   "execution_count": 135,
   "metadata": {
    "collapsed": false
   },
   "outputs": [
    {
     "data": {
      "text/plain": [
       "2"
      ]
     },
     "execution_count": 135,
     "metadata": {},
     "output_type": "execute_result"
    }
   ],
   "source": [
    "len(missing_position)"
   ]
  },
  {
   "cell_type": "code",
   "execution_count": null,
   "metadata": {
    "collapsed": true
   },
   "outputs": [],
   "source": []
  }
 ],
 "metadata": {
  "kernelspec": {
   "display_name": "Python 2",
   "language": "python",
   "name": "python2"
  },
  "language_info": {
   "codemirror_mode": {
    "name": "ipython",
    "version": 2
   },
   "file_extension": ".py",
   "mimetype": "text/x-python",
   "name": "python",
   "nbconvert_exporter": "python",
   "pygments_lexer": "ipython2",
   "version": "2.7.13"
  }
 },
 "nbformat": 4,
 "nbformat_minor": 2
}
