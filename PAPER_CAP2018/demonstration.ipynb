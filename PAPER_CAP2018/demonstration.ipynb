{
 "cells": [
  {
   "cell_type": "code",
   "execution_count": 25,
   "metadata": {
    "collapsed": false
   },
   "outputs": [],
   "source": [
    "%load_ext autoreload\n",
    "%autoreload 2"
   ]
  },
  {
   "cell_type": "markdown",
   "metadata": {},
   "source": [
    "Import lib"
   ]
  },
  {
   "cell_type": "code",
   "execution_count": 18,
   "metadata": {
    "collapsed": false
   },
   "outputs": [],
   "source": [
    "import numpy as np\n",
    "import os\n"
   ]
  },
  {
   "cell_type": "markdown",
   "metadata": {},
   "source": [
    "Define directions"
   ]
  },
  {
   "cell_type": "code",
   "execution_count": 47,
   "metadata": {
    "collapsed": true
   },
   "outputs": [],
   "source": [
    "ORIGINAL_DATA_dir = 'DATASETS/ORIGINAL_DATA'\n",
    "STUDIED_DATA_dir = 'DATASETS/STUDIED_DATA'"
   ]
  },
  {
   "cell_type": "markdown",
   "metadata": {},
   "source": [
    "Load Original data MLComp"
   ]
  },
  {
   "cell_type": "code",
   "execution_count": 41,
   "metadata": {
    "collapsed": false
   },
   "outputs": [],
   "source": [
    "X_orig = np.loadtxt(os.path.join(ORIGINAL_DATA_dir, 'MLComp/MLComp.data'))"
   ]
  },
  {
   "cell_type": "markdown",
   "metadata": {},
   "source": [
    "Data statistics:"
   ]
  },
  {
   "cell_type": "code",
   "execution_count": 44,
   "metadata": {
    "collapsed": false
   },
   "outputs": [
    {
     "name": "stdout",
     "output_type": "stream",
     "text": [
      "sparsity = 0.932033\n",
      "Number of models = 384\n",
      "Number of datasets = 724\n",
      "Matrix contains NaN, cannot define the rank\n"
     ]
    }
   ],
   "source": [
    "from data_statistics import *\n",
    "print \"sparsity = %f\"%sparsity(X_orig)\n",
    "print \"Number of models = %i\"%num_model(X_orig)\n",
    "print \"Number of datasets = %i\"%num_dataset(X_orig)\n",
    "if sparsity(X_orig) == 0:\n",
    "    print \"Rank of matrix = %i\"%rank(X_orig)\n",
    "else:\n",
    "    print \"Matrix contains NaN, cannot define the rank\""
   ]
  },
  {
   "cell_type": "markdown",
   "metadata": {},
   "source": [
    "Load processed data.\n",
    "Note: Datasets in STUDIED_DATA_dir are all the same as they are in ORIGINAL_DATA_dir, except for MLComp for which we processed to extract a dense part of the original data to reduce the sparsity."
   ]
  },
  {
   "cell_type": "code",
   "execution_count": 48,
   "metadata": {
    "collapsed": false
   },
   "outputs": [],
   "source": [
    "X_proc = np.loadtxt(os.path.join(STUDIED_DATA_dir, 'MLComp/MLComp.data'))"
   ]
  },
  {
   "cell_type": "code",
   "execution_count": 49,
   "metadata": {
    "collapsed": false
   },
   "outputs": [
    {
     "name": "stdout",
     "output_type": "stream",
     "text": [
      "sparsity = 0.165000\n",
      "Number of models = 10\n",
      "Number of datasets = 300\n",
      "Matrix contains NaN, cannot define the rank\n"
     ]
    }
   ],
   "source": [
    "print \"sparsity = %f\"%sparsity(X_proc)\n",
    "print \"Number of models = %i\"%num_model(X_proc)\n",
    "print \"Number of datasets = %i\"%num_dataset(X_proc)\n",
    "if sparsity(X_proc) == 0:\n",
    "    print \"Rank of matrix = %i\"%rank(X_proc)\n",
    "else:\n",
    "    print \"Matrix contains NaN, cannot define the rank\""
   ]
  },
  {
   "cell_type": "code",
   "execution_count": null,
   "metadata": {
    "collapsed": true
   },
   "outputs": [],
   "source": []
  }
 ],
 "metadata": {
  "kernelspec": {
   "display_name": "Python 2",
   "language": "python",
   "name": "python2"
  },
  "language_info": {
   "codemirror_mode": {
    "name": "ipython",
    "version": 2
   },
   "file_extension": ".py",
   "mimetype": "text/x-python",
   "name": "python",
   "nbconvert_exporter": "python",
   "pygments_lexer": "ipython2",
   "version": "2.7.13"
  }
 },
 "nbformat": 4,
 "nbformat_minor": 2
}
